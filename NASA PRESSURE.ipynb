{
 "cells": [
  {
   "cell_type": "code",
   "execution_count": 1,
   "id": "e49e8fa9-1439-43c9-a34e-c02632969486",
   "metadata": {},
   "outputs": [],
   "source": [
    "#Importing the Library,\n",
    "import numpy as np\n",
    "import pandas as pd\n",
    "import matplotlib.pyplot as plt\n",
    "%matplotlib inline\n",
    "import seaborn as sns"
   ]
  },
  {
   "cell_type": "markdown",
   "id": "775ea2aa-059c-4564-94ab-86e99a839db5",
   "metadata": {},
   "source": [
    "# Loading the data"
   ]
  },
  {
   "cell_type": "code",
   "execution_count": 2,
   "id": "fe6bcb8f-3f62-4300-9186-77f3aaa31922",
   "metadata": {},
   "outputs": [],
   "source": [
    "df=pd.read_csv('airfoil_self_noise.dat',sep='\\t',header=None)"
   ]
  },
  {
   "cell_type": "code",
   "execution_count": 3,
   "id": "86cdfece-9ad9-4ea6-ab73-cf9f858734c0",
   "metadata": {},
   "outputs": [
    {
     "data": {
      "text/html": [
       "<div>\n",
       "<style scoped>\n",
       "    .dataframe tbody tr th:only-of-type {\n",
       "        vertical-align: middle;\n",
       "    }\n",
       "\n",
       "    .dataframe tbody tr th {\n",
       "        vertical-align: top;\n",
       "    }\n",
       "\n",
       "    .dataframe thead th {\n",
       "        text-align: right;\n",
       "    }\n",
       "</style>\n",
       "<table border=\"1\" class=\"dataframe\">\n",
       "  <thead>\n",
       "    <tr style=\"text-align: right;\">\n",
       "      <th></th>\n",
       "      <th>0</th>\n",
       "      <th>1</th>\n",
       "      <th>2</th>\n",
       "      <th>3</th>\n",
       "      <th>4</th>\n",
       "      <th>5</th>\n",
       "    </tr>\n",
       "  </thead>\n",
       "  <tbody>\n",
       "    <tr>\n",
       "      <th>0</th>\n",
       "      <td>800</td>\n",
       "      <td>0.0</td>\n",
       "      <td>0.3048</td>\n",
       "      <td>71.3</td>\n",
       "      <td>0.002663</td>\n",
       "      <td>126.201</td>\n",
       "    </tr>\n",
       "    <tr>\n",
       "      <th>1</th>\n",
       "      <td>1000</td>\n",
       "      <td>0.0</td>\n",
       "      <td>0.3048</td>\n",
       "      <td>71.3</td>\n",
       "      <td>0.002663</td>\n",
       "      <td>125.201</td>\n",
       "    </tr>\n",
       "    <tr>\n",
       "      <th>2</th>\n",
       "      <td>1250</td>\n",
       "      <td>0.0</td>\n",
       "      <td>0.3048</td>\n",
       "      <td>71.3</td>\n",
       "      <td>0.002663</td>\n",
       "      <td>125.951</td>\n",
       "    </tr>\n",
       "    <tr>\n",
       "      <th>3</th>\n",
       "      <td>1600</td>\n",
       "      <td>0.0</td>\n",
       "      <td>0.3048</td>\n",
       "      <td>71.3</td>\n",
       "      <td>0.002663</td>\n",
       "      <td>127.591</td>\n",
       "    </tr>\n",
       "    <tr>\n",
       "      <th>4</th>\n",
       "      <td>2000</td>\n",
       "      <td>0.0</td>\n",
       "      <td>0.3048</td>\n",
       "      <td>71.3</td>\n",
       "      <td>0.002663</td>\n",
       "      <td>127.461</td>\n",
       "    </tr>\n",
       "  </tbody>\n",
       "</table>\n",
       "</div>"
      ],
      "text/plain": [
       "      0    1       2     3         4        5\n",
       "0   800  0.0  0.3048  71.3  0.002663  126.201\n",
       "1  1000  0.0  0.3048  71.3  0.002663  125.201\n",
       "2  1250  0.0  0.3048  71.3  0.002663  125.951\n",
       "3  1600  0.0  0.3048  71.3  0.002663  127.591\n",
       "4  2000  0.0  0.3048  71.3  0.002663  127.461"
      ]
     },
     "execution_count": 3,
     "metadata": {},
     "output_type": "execute_result"
    }
   ],
   "source": [
    "df.head()"
   ]
  },
  {
   "cell_type": "markdown",
   "id": "03271601-a094-4983-953a-4a623b62b02e",
   "metadata": {},
   "source": [
    "Data Set Information:\n",
    "\n",
    "The NASA data set comprises different size NACA 0012 airfoils at various wind tunnel speeds and angles of attack. The span of the airfoil and the observer position were the same in all of the experiments.\n",
    "\n",
    "\n",
    "Attribute Information:\n",
    "\n",
    "This problem has the following inputs:\n",
    "1. Frequency, in Hertzs.\n",
    "2. Angle of attack, in degrees.\n",
    "3. Chord length, in meters.\n",
    "4. Free-stream velocity, in meters per second.\n",
    "5. Suction side displacement thickness, in meters.\n",
    "\n",
    "The only output is:\n",
    "6. Scaled sound pressure level, in decibels.\n",
    "\n"
   ]
  },
  {
   "cell_type": "code",
   "execution_count": 4,
   "id": "49242a39-58f4-41d6-960e-1d7520291430",
   "metadata": {},
   "outputs": [],
   "source": [
    "df.columns=[\"Frequency\",\"Angle of attack\",\"Chord length\",\"Free-stream velocity\",\"Suction side\",\"pressure level\"]"
   ]
  },
  {
   "cell_type": "code",
   "execution_count": 5,
   "id": "e8c7aadf-777a-450f-9f51-9ceb09326af0",
   "metadata": {},
   "outputs": [
    {
     "data": {
      "text/html": [
       "<div>\n",
       "<style scoped>\n",
       "    .dataframe tbody tr th:only-of-type {\n",
       "        vertical-align: middle;\n",
       "    }\n",
       "\n",
       "    .dataframe tbody tr th {\n",
       "        vertical-align: top;\n",
       "    }\n",
       "\n",
       "    .dataframe thead th {\n",
       "        text-align: right;\n",
       "    }\n",
       "</style>\n",
       "<table border=\"1\" class=\"dataframe\">\n",
       "  <thead>\n",
       "    <tr style=\"text-align: right;\">\n",
       "      <th></th>\n",
       "      <th>Frequency</th>\n",
       "      <th>Angle of attack</th>\n",
       "      <th>Chord length</th>\n",
       "      <th>Free-stream velocity</th>\n",
       "      <th>Suction side</th>\n",
       "      <th>pressure level</th>\n",
       "    </tr>\n",
       "  </thead>\n",
       "  <tbody>\n",
       "    <tr>\n",
       "      <th>0</th>\n",
       "      <td>800</td>\n",
       "      <td>0.0</td>\n",
       "      <td>0.3048</td>\n",
       "      <td>71.3</td>\n",
       "      <td>0.002663</td>\n",
       "      <td>126.201</td>\n",
       "    </tr>\n",
       "    <tr>\n",
       "      <th>1</th>\n",
       "      <td>1000</td>\n",
       "      <td>0.0</td>\n",
       "      <td>0.3048</td>\n",
       "      <td>71.3</td>\n",
       "      <td>0.002663</td>\n",
       "      <td>125.201</td>\n",
       "    </tr>\n",
       "    <tr>\n",
       "      <th>2</th>\n",
       "      <td>1250</td>\n",
       "      <td>0.0</td>\n",
       "      <td>0.3048</td>\n",
       "      <td>71.3</td>\n",
       "      <td>0.002663</td>\n",
       "      <td>125.951</td>\n",
       "    </tr>\n",
       "    <tr>\n",
       "      <th>3</th>\n",
       "      <td>1600</td>\n",
       "      <td>0.0</td>\n",
       "      <td>0.3048</td>\n",
       "      <td>71.3</td>\n",
       "      <td>0.002663</td>\n",
       "      <td>127.591</td>\n",
       "    </tr>\n",
       "    <tr>\n",
       "      <th>4</th>\n",
       "      <td>2000</td>\n",
       "      <td>0.0</td>\n",
       "      <td>0.3048</td>\n",
       "      <td>71.3</td>\n",
       "      <td>0.002663</td>\n",
       "      <td>127.461</td>\n",
       "    </tr>\n",
       "  </tbody>\n",
       "</table>\n",
       "</div>"
      ],
      "text/plain": [
       "   Frequency  Angle of attack  Chord length  Free-stream velocity  \\\n",
       "0        800              0.0        0.3048                  71.3   \n",
       "1       1000              0.0        0.3048                  71.3   \n",
       "2       1250              0.0        0.3048                  71.3   \n",
       "3       1600              0.0        0.3048                  71.3   \n",
       "4       2000              0.0        0.3048                  71.3   \n",
       "\n",
       "   Suction side  pressure level  \n",
       "0      0.002663         126.201  \n",
       "1      0.002663         125.201  \n",
       "2      0.002663         125.951  \n",
       "3      0.002663         127.591  \n",
       "4      0.002663         127.461  "
      ]
     },
     "execution_count": 5,
     "metadata": {},
     "output_type": "execute_result"
    }
   ],
   "source": [
    "df.head()# after renaming the columns name of the data set ."
   ]
  },
  {
   "cell_type": "code",
   "execution_count": 6,
   "id": "178e7ae3-b18a-4bef-a713-994283e325e7",
   "metadata": {},
   "outputs": [
    {
     "data": {
      "text/plain": [
       "(1503, 6)"
      ]
     },
     "execution_count": 6,
     "metadata": {},
     "output_type": "execute_result"
    }
   ],
   "source": [
    "df.shape"
   ]
  },
  {
   "cell_type": "code",
   "execution_count": 7,
   "id": "ff2a1b1a-707c-46a6-88fb-7cafd95ee54b",
   "metadata": {},
   "outputs": [
    {
     "data": {
      "text/plain": [
       "Frequency               0\n",
       "Angle of attack         0\n",
       "Chord length            0\n",
       "Free-stream velocity    0\n",
       "Suction side            0\n",
       "pressure level          0\n",
       "dtype: int64"
      ]
     },
     "execution_count": 7,
     "metadata": {},
     "output_type": "execute_result"
    }
   ],
   "source": [
    "df.isnull().sum()# there is no null value in the given data set ."
   ]
  },
  {
   "cell_type": "code",
   "execution_count": 8,
   "id": "f1faa81a-1a49-437a-8843-a15d5507c283",
   "metadata": {},
   "outputs": [],
   "source": [
    "X=df.iloc[:,:-1]\n",
    "y=df.iloc[:,-1]"
   ]
  },
  {
   "cell_type": "code",
   "execution_count": 9,
   "id": "5dc14f01-5959-4d10-a7d5-c5cb1a1c491c",
   "metadata": {},
   "outputs": [],
   "source": [
    "### first Do train and test split\n",
    "from sklearn.model_selection import train_test_split\n",
    "X_train, X_test, y_train, y_test = train_test_split(\n",
    "     X, y, test_size=0.33, random_state=42)"
   ]
  },
  {
   "cell_type": "code",
   "execution_count": 10,
   "id": "f92f93d2-2279-4606-a50e-89567a099faf",
   "metadata": {},
   "outputs": [
    {
     "data": {
      "text/html": [
       "<div>\n",
       "<style scoped>\n",
       "    .dataframe tbody tr th:only-of-type {\n",
       "        vertical-align: middle;\n",
       "    }\n",
       "\n",
       "    .dataframe tbody tr th {\n",
       "        vertical-align: top;\n",
       "    }\n",
       "\n",
       "    .dataframe thead th {\n",
       "        text-align: right;\n",
       "    }\n",
       "</style>\n",
       "<table border=\"1\" class=\"dataframe\">\n",
       "  <thead>\n",
       "    <tr style=\"text-align: right;\">\n",
       "      <th></th>\n",
       "      <th>Frequency</th>\n",
       "      <th>Angle of attack</th>\n",
       "      <th>Chord length</th>\n",
       "      <th>Free-stream velocity</th>\n",
       "      <th>Suction side</th>\n",
       "    </tr>\n",
       "  </thead>\n",
       "  <tbody>\n",
       "    <tr>\n",
       "      <th>845</th>\n",
       "      <td>500</td>\n",
       "      <td>11.2</td>\n",
       "      <td>0.0508</td>\n",
       "      <td>71.3</td>\n",
       "      <td>0.014072</td>\n",
       "    </tr>\n",
       "    <tr>\n",
       "      <th>1026</th>\n",
       "      <td>10000</td>\n",
       "      <td>4.8</td>\n",
       "      <td>0.0254</td>\n",
       "      <td>55.5</td>\n",
       "      <td>0.000873</td>\n",
       "    </tr>\n",
       "    <tr>\n",
       "      <th>621</th>\n",
       "      <td>2000</td>\n",
       "      <td>7.2</td>\n",
       "      <td>0.1524</td>\n",
       "      <td>39.6</td>\n",
       "      <td>0.009092</td>\n",
       "    </tr>\n",
       "    <tr>\n",
       "      <th>1371</th>\n",
       "      <td>630</td>\n",
       "      <td>6.7</td>\n",
       "      <td>0.1016</td>\n",
       "      <td>31.7</td>\n",
       "      <td>0.005929</td>\n",
       "    </tr>\n",
       "    <tr>\n",
       "      <th>195</th>\n",
       "      <td>6300</td>\n",
       "      <td>0.0</td>\n",
       "      <td>0.2286</td>\n",
       "      <td>71.3</td>\n",
       "      <td>0.002143</td>\n",
       "    </tr>\n",
       "  </tbody>\n",
       "</table>\n",
       "</div>"
      ],
      "text/plain": [
       "      Frequency  Angle of attack  Chord length  Free-stream velocity  \\\n",
       "845         500             11.2        0.0508                  71.3   \n",
       "1026      10000              4.8        0.0254                  55.5   \n",
       "621        2000              7.2        0.1524                  39.6   \n",
       "1371        630              6.7        0.1016                  31.7   \n",
       "195        6300              0.0        0.2286                  71.3   \n",
       "\n",
       "      Suction side  \n",
       "845       0.014072  \n",
       "1026      0.000873  \n",
       "621       0.009092  \n",
       "1371      0.005929  \n",
       "195       0.002143  "
      ]
     },
     "execution_count": 10,
     "metadata": {},
     "output_type": "execute_result"
    }
   ],
   "source": [
    "X_train.head()"
   ]
  },
  {
   "cell_type": "code",
   "execution_count": 11,
   "id": "6b2e672c-e5b2-4b9a-ab97-60c9ec653e5f",
   "metadata": {},
   "outputs": [
    {
     "data": {
      "text/html": [
       "<div>\n",
       "<style scoped>\n",
       "    .dataframe tbody tr th:only-of-type {\n",
       "        vertical-align: middle;\n",
       "    }\n",
       "\n",
       "    .dataframe tbody tr th {\n",
       "        vertical-align: top;\n",
       "    }\n",
       "\n",
       "    .dataframe thead th {\n",
       "        text-align: right;\n",
       "    }\n",
       "</style>\n",
       "<table border=\"1\" class=\"dataframe\">\n",
       "  <thead>\n",
       "    <tr style=\"text-align: right;\">\n",
       "      <th></th>\n",
       "      <th>Frequency</th>\n",
       "      <th>Angle of attack</th>\n",
       "      <th>Chord length</th>\n",
       "      <th>Free-stream velocity</th>\n",
       "      <th>Suction side</th>\n",
       "    </tr>\n",
       "  </thead>\n",
       "  <tbody>\n",
       "    <tr>\n",
       "      <th>Frequency</th>\n",
       "      <td>1.000000</td>\n",
       "      <td>-0.273327</td>\n",
       "      <td>-0.000324</td>\n",
       "      <td>0.125247</td>\n",
       "      <td>-0.239878</td>\n",
       "    </tr>\n",
       "    <tr>\n",
       "      <th>Angle of attack</th>\n",
       "      <td>-0.273327</td>\n",
       "      <td>1.000000</td>\n",
       "      <td>-0.498257</td>\n",
       "      <td>0.058603</td>\n",
       "      <td>0.762567</td>\n",
       "    </tr>\n",
       "    <tr>\n",
       "      <th>Chord length</th>\n",
       "      <td>-0.000324</td>\n",
       "      <td>-0.498257</td>\n",
       "      <td>1.000000</td>\n",
       "      <td>0.013061</td>\n",
       "      <td>-0.220849</td>\n",
       "    </tr>\n",
       "    <tr>\n",
       "      <th>Free-stream velocity</th>\n",
       "      <td>0.125247</td>\n",
       "      <td>0.058603</td>\n",
       "      <td>0.013061</td>\n",
       "      <td>1.000000</td>\n",
       "      <td>-0.000519</td>\n",
       "    </tr>\n",
       "    <tr>\n",
       "      <th>Suction side</th>\n",
       "      <td>-0.239878</td>\n",
       "      <td>0.762567</td>\n",
       "      <td>-0.220849</td>\n",
       "      <td>-0.000519</td>\n",
       "      <td>1.000000</td>\n",
       "    </tr>\n",
       "  </tbody>\n",
       "</table>\n",
       "</div>"
      ],
      "text/plain": [
       "                      Frequency  Angle of attack  Chord length  \\\n",
       "Frequency              1.000000        -0.273327     -0.000324   \n",
       "Angle of attack       -0.273327         1.000000     -0.498257   \n",
       "Chord length          -0.000324        -0.498257      1.000000   \n",
       "Free-stream velocity   0.125247         0.058603      0.013061   \n",
       "Suction side          -0.239878         0.762567     -0.220849   \n",
       "\n",
       "                      Free-stream velocity  Suction side  \n",
       "Frequency                         0.125247     -0.239878  \n",
       "Angle of attack                   0.058603      0.762567  \n",
       "Chord length                      0.013061     -0.220849  \n",
       "Free-stream velocity              1.000000     -0.000519  \n",
       "Suction side                     -0.000519      1.000000  "
      ]
     },
     "execution_count": 11,
     "metadata": {},
     "output_type": "execute_result"
    }
   ],
   "source": [
    "import matplotlib.pyplot as plt\n",
    "X_train.corr()"
   ]
  },
  {
   "cell_type": "code",
   "execution_count": 12,
   "id": "07f79557-c6eb-4ddb-9353-dd54640dc1a7",
   "metadata": {},
   "outputs": [
    {
     "data": {
      "text/plain": [
       "<AxesSubplot: >"
      ]
     },
     "execution_count": 12,
     "metadata": {},
     "output_type": "execute_result"
    },
    {
     "data": {
      "image/png": "[encoded data removed]",
      "text/plain": [
       "<Figure size 640x480 with 2 Axes>"
      ]
     },
     "metadata": {},
     "output_type": "display_data"
    }
   ],
   "source": [
    "sns.heatmap(X_train.corr())"
   ]
  },
  {
   "cell_type": "code",
   "execution_count": 13,
   "id": "b14271a2-6b66-46e8-a0af-4ee9ab8fc096",
   "metadata": {},
   "outputs": [
    {
     "data": {
      "text/plain": [
       "<AxesSubplot: >"
      ]
     },
     "execution_count": 13,
     "metadata": {},
     "output_type": "execute_result"
    },
    {
     "data": {
      "image/png": "[encoded data removed]",
      "text/plain": [
       "<Figure size 640x480 with 1 Axes>"
      ]
     },
     "metadata": {},
     "output_type": "display_data"
    }
   ],
   "source": [
    "sns.boxplot(X_train['Frequency'])#checking outlier is ther or not the frequency columns \n"
   ]
  },
  {
   "cell_type": "code",
   "execution_count": 14,
   "id": "f382b244-3644-44d7-8654-59b00598d64a",
   "metadata": {},
   "outputs": [
    {
     "data": {
      "text/plain": [
       "<AxesSubplot: >"
      ]
     },
     "execution_count": 14,
     "metadata": {},
     "output_type": "execute_result"
    },
    {
     "data": {
      "image/png": "[encoded data removed]",
      "text/plain": [
       "<Figure size 640x480 with 1 Axes>"
      ]
     },
     "metadata": {},
     "output_type": "display_data"
    }
   ],
   "source": [
    "sns.boxplot(df['pressure level'])"
   ]
  },
  {
   "cell_type": "code",
   "execution_count": 15,
   "id": "ffcd014f-bb00-4d41-9899-9806dddd70a8",
   "metadata": {},
   "outputs": [
    {
     "data": {
      "text/plain": [
       "<AxesSubplot: ylabel='Frequency'>"
      ]
     },
     "execution_count": 15,
     "metadata": {},
     "output_type": "execute_result"
    },
    {
     "data": {
      "image/png": "[encoded data removed]",
      "text/plain": [
       "<Figure size 640x480 with 1 Axes>"
      ]
     },
     "metadata": {},
     "output_type": "display_data"
    }
   ],
   "source": [
    "sns.scatterplot(X_train['Frequency'])"
   ]
  },
  {
   "cell_type": "code",
   "execution_count": 16,
   "id": "20618e28-a280-4944-acb9-937858ee578a",
   "metadata": {},
   "outputs": [
    {
     "data": {
      "text/plain": [
       "1456"
      ]
     },
     "execution_count": 16,
     "metadata": {},
     "output_type": "execute_result"
    }
   ],
   "source": [
    "len(df['pressure level'].unique())# so it is regression probelm ,\n",
    "# it it haing 20-30 class we may condiser it as classification\n"
   ]
  },
  {
   "cell_type": "code",
   "execution_count": 17,
   "id": "fdd8a138-9071-477f-b3f6-d0a278ff2366",
   "metadata": {},
   "outputs": [],
   "source": [
    "\n",
    "from sklearn.linear_model import LinearRegression\n",
    "from sklearn.ensemble import RandomForestRegressor\n",
    "from sklearn import svm\n",
    "from sklearn.tree import DecisionTreeRegressor\n",
    "from sklearn.model_selection import train_test_split\n",
    "from sklearn.metrics import mean_squared_error\n",
    "linear = LinearRegression()\n",
    "dt = DecisionTreeRegressor()\n",
    "svr = svm.SVR()\n",
    "rf = RandomForestRegressor()"
   ]
  },
  {
   "cell_type": "code",
   "execution_count": 18,
   "id": "c1880205-fa3a-4bad-bf06-25dbe7f5b2d3",
   "metadata": {},
   "outputs": [
    {
     "data": {
      "text/html": [
       "<style>#sk-container-id-1 {color: black;background-color: white;}#sk-container-id-1 pre{padding: 0;}#sk-container-id-1 div.sk-toggleable {background-color: white;}#sk-container-id-1 label.sk-toggleable__label {cursor: pointer;display: block;width: 100%;margin-bottom: 0;padding: 0.3em;box-sizing: border-box;text-align: center;}#sk-container-id-1 label.sk-toggleable__label-arrow:before {content: \"▸\";float: left;margin-right: 0.25em;color: #696969;}#sk-container-id-1 label.sk-toggleable__label-arrow:hover:before {color: black;}#sk-container-id-1 div.sk-estimator:hover label.sk-toggleable__label-arrow:before {color: black;}#sk-container-id-1 div.sk-toggleable__content {max-height: 0;max-width: 0;overflow: hidden;text-align: left;background-color: #f0f8ff;}#sk-container-id-1 div.sk-toggleable__content pre {margin: 0.2em;color: black;border-radius: 0.25em;background-color: #f0f8ff;}#sk-container-id-1 input.sk-toggleable__control:checked~div.sk-toggleable__content {max-height: 200px;max-width: 100%;overflow: auto;}#sk-container-id-1 input.sk-toggleable__control:checked~label.sk-toggleable__label-arrow:before {content: \"▾\";}#sk-container-id-1 div.sk-estimator input.sk-toggleable__control:checked~label.sk-toggleable__label {background-color: #d4ebff;}#sk-container-id-1 div.sk-label input.sk-toggleable__control:checked~label.sk-toggleable__label {background-color: #d4ebff;}#sk-container-id-1 input.sk-hidden--visually {border: 0;clip: rect(1px 1px 1px 1px);clip: rect(1px, 1px, 1px, 1px);height: 1px;margin: -1px;overflow: hidden;padding: 0;position: absolute;width: 1px;}#sk-container-id-1 div.sk-estimator {font-family: monospace;background-color: #f0f8ff;border: 1px dotted black;border-radius: 0.25em;box-sizing: border-box;margin-bottom: 0.5em;}#sk-container-id-1 div.sk-estimator:hover {background-color: #d4ebff;}#sk-container-id-1 div.sk-parallel-item::after {content: \"\";width: 100%;border-bottom: 1px solid gray;flex-grow: 1;}#sk-container-id-1 div.sk-label:hover label.sk-toggleable__label {background-color: #d4ebff;}#sk-container-id-1 div.sk-serial::before {content: \"\";position: absolute;border-left: 1px solid gray;box-sizing: border-box;top: 0;bottom: 0;left: 50%;z-index: 0;}#sk-container-id-1 div.sk-serial {display: flex;flex-direction: column;align-items: center;background-color: white;padding-right: 0.2em;padding-left: 0.2em;position: relative;}#sk-container-id-1 div.sk-item {position: relative;z-index: 1;}#sk-container-id-1 div.sk-parallel {display: flex;align-items: stretch;justify-content: center;background-color: white;position: relative;}#sk-container-id-1 div.sk-item::before, #sk-container-id-1 div.sk-parallel-item::before {content: \"\";position: absolute;border-left: 1px solid gray;box-sizing: border-box;top: 0;bottom: 0;left: 50%;z-index: -1;}#sk-container-id-1 div.sk-parallel-item {display: flex;flex-direction: column;z-index: 1;position: relative;background-color: white;}#sk-container-id-1 div.sk-parallel-item:first-child::after {align-self: flex-end;width: 50%;}#sk-container-id-1 div.sk-parallel-item:last-child::after {align-self: flex-start;width: 50%;}#sk-container-id-1 div.sk-parallel-item:only-child::after {width: 0;}#sk-container-id-1 div.sk-dashed-wrapped {border: 1px dashed gray;margin: 0 0.4em 0.5em 0.4em;box-sizing: border-box;padding-bottom: 0.4em;background-color: white;}#sk-container-id-1 div.sk-label label {font-family: monospace;font-weight: bold;display: inline-block;line-height: 1.2em;}#sk-container-id-1 div.sk-label-container {text-align: center;}#sk-container-id-1 div.sk-container {/* jupyter's `normalize.less` sets `[hidden] { display: none; }` but bootstrap.min.css set `[hidden] { display: none !important; }` so we also need the `!important` here to be able to override the default hidden behavior on the sphinx rendered scikit-learn.org. See: https://github.com/scikit-learn/scikit-learn/issues/21755 */display: inline-block !important;position: relative;}#sk-container-id-1 div.sk-text-repr-fallback {display: none;}</style><div id=\"sk-container-id-1\" class=\"sk-top-container\"><div class=\"sk-text-repr-fallback\"><pre>LinearRegression()</pre><b>In a Jupyter environment, please rerun this cell to show the HTML representation or trust the notebook. <br />On GitHub, the HTML representation is unable to render, please try loading this page with nbviewer.org.</b></div><div class=\"sk-container\" hidden><div class=\"sk-item\"><div class=\"sk-estimator sk-toggleable\"><input class=\"sk-toggleable__control sk-hidden--visually\" id=\"sk-estimator-id-1\" type=\"checkbox\" checked><label for=\"sk-estimator-id-1\" class=\"sk-toggleable__label sk-toggleable__label-arrow\">LinearRegression</label><div class=\"sk-toggleable__content\"><pre>LinearRegression()</pre></div></div></div></div></div>"
      ],
      "text/plain": [
       "LinearRegression()"
      ]
     },
     "execution_count": 18,
     "metadata": {},
     "output_type": "execute_result"
    }
   ],
   "source": [
    "linear.fit(X_train, y_train)"
   ]
  },
  {
   "cell_type": "code",
   "execution_count": 19,
   "id": "932e73a1-8ed9-4c3c-83dd-b635bbab9988",
   "metadata": {},
   "outputs": [
    {
     "data": {
      "text/html": [
       "<style>#sk-container-id-2 {color: black;background-color: white;}#sk-container-id-2 pre{padding: 0;}#sk-container-id-2 div.sk-toggleable {background-color: white;}#sk-container-id-2 label.sk-toggleable__label {cursor: pointer;display: block;width: 100%;margin-bottom: 0;padding: 0.3em;box-sizing: border-box;text-align: center;}#sk-container-id-2 label.sk-toggleable__label-arrow:before {content: \"▸\";float: left;margin-right: 0.25em;color: #696969;}#sk-container-id-2 label.sk-toggleable__label-arrow:hover:before {color: black;}#sk-container-id-2 div.sk-estimator:hover label.sk-toggleable__label-arrow:before {color: black;}#sk-container-id-2 div.sk-toggleable__content {max-height: 0;max-width: 0;overflow: hidden;text-align: left;background-color: #f0f8ff;}#sk-container-id-2 div.sk-toggleable__content pre {margin: 0.2em;color: black;border-radius: 0.25em;background-color: #f0f8ff;}#sk-container-id-2 input.sk-toggleable__control:checked~div.sk-toggleable__content {max-height: 200px;max-width: 100%;overflow: auto;}#sk-container-id-2 input.sk-toggleable__control:checked~label.sk-toggleable__label-arrow:before {content: \"▾\";}#sk-container-id-2 div.sk-estimator input.sk-toggleable__control:checked~label.sk-toggleable__label {background-color: #d4ebff;}#sk-container-id-2 div.sk-label input.sk-toggleable__control:checked~label.sk-toggleable__label {background-color: #d4ebff;}#sk-container-id-2 input.sk-hidden--visually {border: 0;clip: rect(1px 1px 1px 1px);clip: rect(1px, 1px, 1px, 1px);height: 1px;margin: -1px;overflow: hidden;padding: 0;position: absolute;width: 1px;}#sk-container-id-2 div.sk-estimator {font-family: monospace;background-color: #f0f8ff;border: 1px dotted black;border-radius: 0.25em;box-sizing: border-box;margin-bottom: 0.5em;}#sk-container-id-2 div.sk-estimator:hover {background-color: #d4ebff;}#sk-container-id-2 div.sk-parallel-item::after {content: \"\";width: 100%;border-bottom: 1px solid gray;flex-grow: 1;}#sk-container-id-2 div.sk-label:hover label.sk-toggleable__label {background-color: #d4ebff;}#sk-container-id-2 div.sk-serial::before {content: \"\";position: absolute;border-left: 1px solid gray;box-sizing: border-box;top: 0;bottom: 0;left: 50%;z-index: 0;}#sk-container-id-2 div.sk-serial {display: flex;flex-direction: column;align-items: center;background-color: white;padding-right: 0.2em;padding-left: 0.2em;position: relative;}#sk-container-id-2 div.sk-item {position: relative;z-index: 1;}#sk-container-id-2 div.sk-parallel {display: flex;align-items: stretch;justify-content: center;background-color: white;position: relative;}#sk-container-id-2 div.sk-item::before, #sk-container-id-2 div.sk-parallel-item::before {content: \"\";position: absolute;border-left: 1px solid gray;box-sizing: border-box;top: 0;bottom: 0;left: 50%;z-index: -1;}#sk-container-id-2 div.sk-parallel-item {display: flex;flex-direction: column;z-index: 1;position: relative;background-color: white;}#sk-container-id-2 div.sk-parallel-item:first-child::after {align-self: flex-end;width: 50%;}#sk-container-id-2 div.sk-parallel-item:last-child::after {align-self: flex-start;width: 50%;}#sk-container-id-2 div.sk-parallel-item:only-child::after {width: 0;}#sk-container-id-2 div.sk-dashed-wrapped {border: 1px dashed gray;margin: 0 0.4em 0.5em 0.4em;box-sizing: border-box;padding-bottom: 0.4em;background-color: white;}#sk-container-id-2 div.sk-label label {font-family: monospace;font-weight: bold;display: inline-block;line-height: 1.2em;}#sk-container-id-2 div.sk-label-container {text-align: center;}#sk-container-id-2 div.sk-container {/* jupyter's `normalize.less` sets `[hidden] { display: none; }` but bootstrap.min.css set `[hidden] { display: none !important; }` so we also need the `!important` here to be able to override the default hidden behavior on the sphinx rendered scikit-learn.org. See: https://github.com/scikit-learn/scikit-learn/issues/21755 */display: inline-block !important;position: relative;}#sk-container-id-2 div.sk-text-repr-fallback {display: none;}</style><div id=\"sk-container-id-2\" class=\"sk-top-container\"><div class=\"sk-text-repr-fallback\"><pre>DecisionTreeRegressor()</pre><b>In a Jupyter environment, please rerun this cell to show the HTML representation or trust the notebook. <br />On GitHub, the HTML representation is unable to render, please try loading this page with nbviewer.org.</b></div><div class=\"sk-container\" hidden><div class=\"sk-item\"><div class=\"sk-estimator sk-toggleable\"><input class=\"sk-toggleable__control sk-hidden--visually\" id=\"sk-estimator-id-2\" type=\"checkbox\" checked><label for=\"sk-estimator-id-2\" class=\"sk-toggleable__label sk-toggleable__label-arrow\">DecisionTreeRegressor</label><div class=\"sk-toggleable__content\"><pre>DecisionTreeRegressor()</pre></div></div></div></div></div>"
      ],
      "text/plain": [
       "DecisionTreeRegressor()"
      ]
     },
     "execution_count": 19,
     "metadata": {},
     "output_type": "execute_result"
    }
   ],
   "source": [
    "dt.fit(X_train, y_train)"
   ]
  },
  {
   "cell_type": "code",
   "execution_count": 20,
   "id": "1d9fbdda-e30c-48d9-8e7f-7cc9ff31f247",
   "metadata": {},
   "outputs": [
    {
     "data": {
      "text/html": [
       "<style>#sk-container-id-3 {color: black;background-color: white;}#sk-container-id-3 pre{padding: 0;}#sk-container-id-3 div.sk-toggleable {background-color: white;}#sk-container-id-3 label.sk-toggleable__label {cursor: pointer;display: block;width: 100%;margin-bottom: 0;padding: 0.3em;box-sizing: border-box;text-align: center;}#sk-container-id-3 label.sk-toggleable__label-arrow:before {content: \"▸\";float: left;margin-right: 0.25em;color: #696969;}#sk-container-id-3 label.sk-toggleable__label-arrow:hover:before {color: black;}#sk-container-id-3 div.sk-estimator:hover label.sk-toggleable__label-arrow:before {color: black;}#sk-container-id-3 div.sk-toggleable__content {max-height: 0;max-width: 0;overflow: hidden;text-align: left;background-color: #f0f8ff;}#sk-container-id-3 div.sk-toggleable__content pre {margin: 0.2em;color: black;border-radius: 0.25em;background-color: #f0f8ff;}#sk-container-id-3 input.sk-toggleable__control:checked~div.sk-toggleable__content {max-height: 200px;max-width: 100%;overflow: auto;}#sk-container-id-3 input.sk-toggleable__control:checked~label.sk-toggleable__label-arrow:before {content: \"▾\";}#sk-container-id-3 div.sk-estimator input.sk-toggleable__control:checked~label.sk-toggleable__label {background-color: #d4ebff;}#sk-container-id-3 div.sk-label input.sk-toggleable__control:checked~label.sk-toggleable__label {background-color: #d4ebff;}#sk-container-id-3 input.sk-hidden--visually {border: 0;clip: rect(1px 1px 1px 1px);clip: rect(1px, 1px, 1px, 1px);height: 1px;margin: -1px;overflow: hidden;padding: 0;position: absolute;width: 1px;}#sk-container-id-3 div.sk-estimator {font-family: monospace;background-color: #f0f8ff;border: 1px dotted black;border-radius: 0.25em;box-sizing: border-box;margin-bottom: 0.5em;}#sk-container-id-3 div.sk-estimator:hover {background-color: #d4ebff;}#sk-container-id-3 div.sk-parallel-item::after {content: \"\";width: 100%;border-bottom: 1px solid gray;flex-grow: 1;}#sk-container-id-3 div.sk-label:hover label.sk-toggleable__label {background-color: #d4ebff;}#sk-container-id-3 div.sk-serial::before {content: \"\";position: absolute;border-left: 1px solid gray;box-sizing: border-box;top: 0;bottom: 0;left: 50%;z-index: 0;}#sk-container-id-3 div.sk-serial {display: flex;flex-direction: column;align-items: center;background-color: white;padding-right: 0.2em;padding-left: 0.2em;position: relative;}#sk-container-id-3 div.sk-item {position: relative;z-index: 1;}#sk-container-id-3 div.sk-parallel {display: flex;align-items: stretch;justify-content: center;background-color: white;position: relative;}#sk-container-id-3 div.sk-item::before, #sk-container-id-3 div.sk-parallel-item::before {content: \"\";position: absolute;border-left: 1px solid gray;box-sizing: border-box;top: 0;bottom: 0;left: 50%;z-index: -1;}#sk-container-id-3 div.sk-parallel-item {display: flex;flex-direction: column;z-index: 1;position: relative;background-color: white;}#sk-container-id-3 div.sk-parallel-item:first-child::after {align-self: flex-end;width: 50%;}#sk-container-id-3 div.sk-parallel-item:last-child::after {align-self: flex-start;width: 50%;}#sk-container-id-3 div.sk-parallel-item:only-child::after {width: 0;}#sk-container-id-3 div.sk-dashed-wrapped {border: 1px dashed gray;margin: 0 0.4em 0.5em 0.4em;box-sizing: border-box;padding-bottom: 0.4em;background-color: white;}#sk-container-id-3 div.sk-label label {font-family: monospace;font-weight: bold;display: inline-block;line-height: 1.2em;}#sk-container-id-3 div.sk-label-container {text-align: center;}#sk-container-id-3 div.sk-container {/* jupyter's `normalize.less` sets `[hidden] { display: none; }` but bootstrap.min.css set `[hidden] { display: none !important; }` so we also need the `!important` here to be able to override the default hidden behavior on the sphinx rendered scikit-learn.org. See: https://github.com/scikit-learn/scikit-learn/issues/21755 */display: inline-block !important;position: relative;}#sk-container-id-3 div.sk-text-repr-fallback {display: none;}</style><div id=\"sk-container-id-3\" class=\"sk-top-container\"><div class=\"sk-text-repr-fallback\"><pre>SVR()</pre><b>In a Jupyter environment, please rerun this cell to show the HTML representation or trust the notebook. <br />On GitHub, the HTML representation is unable to render, please try loading this page with nbviewer.org.</b></div><div class=\"sk-container\" hidden><div class=\"sk-item\"><div class=\"sk-estimator sk-toggleable\"><input class=\"sk-toggleable__control sk-hidden--visually\" id=\"sk-estimator-id-3\" type=\"checkbox\" checked><label for=\"sk-estimator-id-3\" class=\"sk-toggleable__label sk-toggleable__label-arrow\">SVR</label><div class=\"sk-toggleable__content\"><pre>SVR()</pre></div></div></div></div></div>"
      ],
      "text/plain": [
       "SVR()"
      ]
     },
     "execution_count": 20,
     "metadata": {},
     "output_type": "execute_result"
    }
   ],
   "source": [
    "svr.fit(X_train, y_train)"
   ]
  },
  {
   "cell_type": "code",
   "execution_count": 21,
   "id": "ed2d80da-0cc2-416f-8288-0cef7e1e649a",
   "metadata": {},
   "outputs": [
    {
     "data": {
      "text/html": [
       "<style>#sk-container-id-4 {color: black;background-color: white;}#sk-container-id-4 pre{padding: 0;}#sk-container-id-4 div.sk-toggleable {background-color: white;}#sk-container-id-4 label.sk-toggleable__label {cursor: pointer;display: block;width: 100%;margin-bottom: 0;padding: 0.3em;box-sizing: border-box;text-align: center;}#sk-container-id-4 label.sk-toggleable__label-arrow:before {content: \"▸\";float: left;margin-right: 0.25em;color: #696969;}#sk-container-id-4 label.sk-toggleable__label-arrow:hover:before {color: black;}#sk-container-id-4 div.sk-estimator:hover label.sk-toggleable__label-arrow:before {color: black;}#sk-container-id-4 div.sk-toggleable__content {max-height: 0;max-width: 0;overflow: hidden;text-align: left;background-color: #f0f8ff;}#sk-container-id-4 div.sk-toggleable__content pre {margin: 0.2em;color: black;border-radius: 0.25em;background-color: #f0f8ff;}#sk-container-id-4 input.sk-toggleable__control:checked~div.sk-toggleable__content {max-height: 200px;max-width: 100%;overflow: auto;}#sk-container-id-4 input.sk-toggleable__control:checked~label.sk-toggleable__label-arrow:before {content: \"▾\";}#sk-container-id-4 div.sk-estimator input.sk-toggleable__control:checked~label.sk-toggleable__label {background-color: #d4ebff;}#sk-container-id-4 div.sk-label input.sk-toggleable__control:checked~label.sk-toggleable__label {background-color: #d4ebff;}#sk-container-id-4 input.sk-hidden--visually {border: 0;clip: rect(1px 1px 1px 1px);clip: rect(1px, 1px, 1px, 1px);height: 1px;margin: -1px;overflow: hidden;padding: 0;position: absolute;width: 1px;}#sk-container-id-4 div.sk-estimator {font-family: monospace;background-color: #f0f8ff;border: 1px dotted black;border-radius: 0.25em;box-sizing: border-box;margin-bottom: 0.5em;}#sk-container-id-4 div.sk-estimator:hover {background-color: #d4ebff;}#sk-container-id-4 div.sk-parallel-item::after {content: \"\";width: 100%;border-bottom: 1px solid gray;flex-grow: 1;}#sk-container-id-4 div.sk-label:hover label.sk-toggleable__label {background-color: #d4ebff;}#sk-container-id-4 div.sk-serial::before {content: \"\";position: absolute;border-left: 1px solid gray;box-sizing: border-box;top: 0;bottom: 0;left: 50%;z-index: 0;}#sk-container-id-4 div.sk-serial {display: flex;flex-direction: column;align-items: center;background-color: white;padding-right: 0.2em;padding-left: 0.2em;position: relative;}#sk-container-id-4 div.sk-item {position: relative;z-index: 1;}#sk-container-id-4 div.sk-parallel {display: flex;align-items: stretch;justify-content: center;background-color: white;position: relative;}#sk-container-id-4 div.sk-item::before, #sk-container-id-4 div.sk-parallel-item::before {content: \"\";position: absolute;border-left: 1px solid gray;box-sizing: border-box;top: 0;bottom: 0;left: 50%;z-index: -1;}#sk-container-id-4 div.sk-parallel-item {display: flex;flex-direction: column;z-index: 1;position: relative;background-color: white;}#sk-container-id-4 div.sk-parallel-item:first-child::after {align-self: flex-end;width: 50%;}#sk-container-id-4 div.sk-parallel-item:last-child::after {align-self: flex-start;width: 50%;}#sk-container-id-4 div.sk-parallel-item:only-child::after {width: 0;}#sk-container-id-4 div.sk-dashed-wrapped {border: 1px dashed gray;margin: 0 0.4em 0.5em 0.4em;box-sizing: border-box;padding-bottom: 0.4em;background-color: white;}#sk-container-id-4 div.sk-label label {font-family: monospace;font-weight: bold;display: inline-block;line-height: 1.2em;}#sk-container-id-4 div.sk-label-container {text-align: center;}#sk-container-id-4 div.sk-container {/* jupyter's `normalize.less` sets `[hidden] { display: none; }` but bootstrap.min.css set `[hidden] { display: none !important; }` so we also need the `!important` here to be able to override the default hidden behavior on the sphinx rendered scikit-learn.org. See: https://github.com/scikit-learn/scikit-learn/issues/21755 */display: inline-block !important;position: relative;}#sk-container-id-4 div.sk-text-repr-fallback {display: none;}</style><div id=\"sk-container-id-4\" class=\"sk-top-container\"><div class=\"sk-text-repr-fallback\"><pre>RandomForestRegressor()</pre><b>In a Jupyter environment, please rerun this cell to show the HTML representation or trust the notebook. <br />On GitHub, the HTML representation is unable to render, please try loading this page with nbviewer.org.</b></div><div class=\"sk-container\" hidden><div class=\"sk-item\"><div class=\"sk-estimator sk-toggleable\"><input class=\"sk-toggleable__control sk-hidden--visually\" id=\"sk-estimator-id-4\" type=\"checkbox\" checked><label for=\"sk-estimator-id-4\" class=\"sk-toggleable__label sk-toggleable__label-arrow\">RandomForestRegressor</label><div class=\"sk-toggleable__content\"><pre>RandomForestRegressor()</pre></div></div></div></div></div>"
      ],
      "text/plain": [
       "RandomForestRegressor()"
      ]
     },
     "execution_count": 21,
     "metadata": {},
     "output_type": "execute_result"
    }
   ],
   "source": [
    "rf.fit(X_train, y_train)"
   ]
  },
  {
   "cell_type": "code",
   "execution_count": 22,
   "id": "670c37e7-8e6f-4f71-868a-5f17f339e505",
   "metadata": {},
   "outputs": [],
   "source": [
    "y_pred_linear = linear.predict(X_test)\n",
    "y_pred_dt = dt.predict(X_test)\n",
    "y_pred_svr = svr.predict(X_test)\n",
    "y_pred_rf = rf.predict(X_test)"
   ]
  },
  {
   "cell_type": "code",
   "execution_count": 23,
   "id": "45b3d70a-c9ca-4cbe-8e42-2887bcf42e08",
   "metadata": {},
   "outputs": [],
   "source": [
    "import math\n",
    "error_linear = math.sqrt(mean_squared_error((y_pred_linear), y_test))  \n",
    "error_dt = math.sqrt(mean_squared_error(y_pred_dt, y_test))\n",
    "error_svr = math.sqrt(mean_squared_error(y_pred_svr, y_test))  \n",
    "error_rf = math.sqrt(mean_squared_error(y_pred_rf, y_test))"
   ]
  },
  {
   "cell_type": "code",
   "execution_count": 24,
   "id": "3307fade-88b8-435e-9719-1deb66d9f3d2",
   "metadata": {},
   "outputs": [
    {
     "name": "stdout",
     "output_type": "stream",
     "text": [
      "    Model           :     RMSE Error\n",
      "\n",
      "Linear Regression   :  4.791103164735044\n",
      "Decision Tree       :  2.701622739654697\n",
      "Support Vector      :  6.449533008454223\n",
      "Random Forest       :  1.8453543206323273\n"
     ]
    }
   ],
   "source": [
    "print (\"    Model           :     RMSE Error\\n\" )\n",
    "print (\"Linear Regression   : \", error_linear)\n",
    "print (\"Decision Tree       : \", error_dt)\n",
    "print (\"Support Vector      : \", error_svr)\n",
    "print (\"Random Forest       : \", error_rf)"
   ]
  },
  {
   "cell_type": "code",
   "execution_count": 25,
   "id": "0adca9ff-80e6-4e18-b066-c7594a019374",
   "metadata": {},
   "outputs": [
    {
     "name": "stdout",
     "output_type": "stream",
     "text": [
      "0.5124474986138421\n"
     ]
    }
   ],
   "source": [
    "print(linear.score(X_test, y_test))"
   ]
  },
  {
   "cell_type": "code",
   "execution_count": 26,
   "id": "2e325a85-6650-4553-92cf-8af66e024c14",
   "metadata": {},
   "outputs": [
    {
     "name": "stdout",
     "output_type": "stream",
     "text": [
      "0.8449757102483019\n"
     ]
    }
   ],
   "source": [
    "\n",
    "print(dt.score(X_test, y_test))"
   ]
  },
  {
   "cell_type": "code",
   "execution_count": 27,
   "id": "296dfdb8-3c0c-473c-8f6e-7e5980c9a3cb",
   "metadata": {},
   "outputs": [
    {
     "name": "stdout",
     "output_type": "stream",
     "text": [
      "0.11649932904323934\n"
     ]
    }
   ],
   "source": [
    "print(svr.score(X_test, y_test))"
   ]
  },
  {
   "cell_type": "code",
   "execution_count": 28,
   "id": "f9809b67-05f4-44e7-b1f5-8d4ce027ef20",
   "metadata": {},
   "outputs": [
    {
     "name": "stdout",
     "output_type": "stream",
     "text": [
      "0.9276714304525828\n"
     ]
    }
   ],
   "source": [
    "print(rf.score(X_test, y_test))"
   ]
  },
  {
   "cell_type": "code",
   "execution_count": 32,
   "id": "23e37be4-03f7-4cb1-b797-c542c4beeb0f",
   "metadata": {},
   "outputs": [
    {
     "data": {
      "text/html": [
       "<div>\n",
       "<style scoped>\n",
       "    .dataframe tbody tr th:only-of-type {\n",
       "        vertical-align: middle;\n",
       "    }\n",
       "\n",
       "    .dataframe tbody tr th {\n",
       "        vertical-align: top;\n",
       "    }\n",
       "\n",
       "    .dataframe thead th {\n",
       "        text-align: right;\n",
       "    }\n",
       "</style>\n",
       "<table border=\"1\" class=\"dataframe\">\n",
       "  <thead>\n",
       "    <tr style=\"text-align: right;\">\n",
       "      <th></th>\n",
       "      <th>Frequency</th>\n",
       "      <th>Angle of attack</th>\n",
       "      <th>Chord length</th>\n",
       "      <th>Free-stream velocity</th>\n",
       "      <th>Suction side</th>\n",
       "    </tr>\n",
       "  </thead>\n",
       "  <tbody>\n",
       "    <tr>\n",
       "      <th>51</th>\n",
       "      <td>400</td>\n",
       "      <td>0.0</td>\n",
       "      <td>0.3048</td>\n",
       "      <td>31.7</td>\n",
       "      <td>0.003313</td>\n",
       "    </tr>\n",
       "    <tr>\n",
       "      <th>1465</th>\n",
       "      <td>1250</td>\n",
       "      <td>12.3</td>\n",
       "      <td>0.1016</td>\n",
       "      <td>31.7</td>\n",
       "      <td>0.041876</td>\n",
       "    </tr>\n",
       "    <tr>\n",
       "      <th>184</th>\n",
       "      <td>2500</td>\n",
       "      <td>4.0</td>\n",
       "      <td>0.3048</td>\n",
       "      <td>39.6</td>\n",
       "      <td>0.005796</td>\n",
       "    </tr>\n",
       "    <tr>\n",
       "      <th>1000</th>\n",
       "      <td>4000</td>\n",
       "      <td>0.0</td>\n",
       "      <td>0.0254</td>\n",
       "      <td>31.7</td>\n",
       "      <td>0.000439</td>\n",
       "    </tr>\n",
       "    <tr>\n",
       "      <th>746</th>\n",
       "      <td>5000</td>\n",
       "      <td>0.0</td>\n",
       "      <td>0.0508</td>\n",
       "      <td>55.5</td>\n",
       "      <td>0.000762</td>\n",
       "    </tr>\n",
       "  </tbody>\n",
       "</table>\n",
       "</div>"
      ],
      "text/plain": [
       "      Frequency  Angle of attack  Chord length  Free-stream velocity  \\\n",
       "51          400              0.0        0.3048                  31.7   \n",
       "1465       1250             12.3        0.1016                  31.7   \n",
       "184        2500              4.0        0.3048                  39.6   \n",
       "1000       4000              0.0        0.0254                  31.7   \n",
       "746        5000              0.0        0.0508                  55.5   \n",
       "\n",
       "      Suction side  \n",
       "51        0.003313  \n",
       "1465      0.041876  \n",
       "184       0.005796  \n",
       "1000      0.000439  \n",
       "746       0.000762  "
      ]
     },
     "execution_count": 32,
     "metadata": {},
     "output_type": "execute_result"
    }
   ],
   "source": [
    "X_test.head()"
   ]
  },
  {
   "cell_type": "code",
   "execution_count": null,
   "id": "dd071b23-474b-45ce-bd23-531c6ed031c9",
   "metadata": {},
   "outputs": [],
   "source": []
  },
  {
   "cell_type": "code",
   "execution_count": null,
   "id": "752e2f8e-7234-4f5f-a2f3-18312bb7d71b",
   "metadata": {},
   "outputs": [],
   "source": []
  },
  {
   "cell_type": "code",
   "execution_count": 29,
   "id": "0885c300-e138-4193-ba21-c5caab32694a",
   "metadata": {},
   "outputs": [],
   "source": [
    "import pickle\n",
    "pickle.dump(rf, open('model.pkl', 'wb'))"
   ]
  },
  {
   "cell_type": "code",
   "execution_count": 30,
   "id": "cd947e41-7c92-4f5e-83b0-4259fea00d5b",
   "metadata": {},
   "outputs": [
    {
     "data": {
      "text/plain": [
       "array([123.93344, 119.24248, 119.32783, 136.04597, 134.14726, 123.85397,\n",
       "       123.69032, 134.05911, 134.30073, 127.73657, 126.34537, 112.81913,\n",
       "       132.65633, 132.22904, 124.88039, 107.92003, 129.92148, 129.89869,\n",
       "       128.33883, 125.19384, 125.09345, 127.4306 , 110.90875, 125.71978,\n",
       "       124.46795, 126.31872, 129.68955, 131.35726, 109.3043 , 130.91932,\n",
       "       131.67421, 121.96261, 128.1047 , 119.20944, 119.31411, 133.17515,\n",
       "       133.66469, 129.7353 , 121.16746, 111.85639, 125.91696, 134.70873,\n",
       "       127.46649, 121.72423, 126.59644, 134.2861 , 129.59835, 118.45856,\n",
       "       121.36368, 133.39585, 132.16162, 114.63171, 129.2498 , 127.08205,\n",
       "       126.5975 , 121.10097, 123.61185, 129.86995, 122.31766, 118.60804,\n",
       "       125.79454, 134.34058, 130.51899, 133.35401, 117.68899, 125.02011,\n",
       "       122.76102, 119.48966, 126.11913, 129.47431, 129.06064, 129.78051,\n",
       "       128.74582, 116.88486, 129.38563, 128.18134, 129.54596, 132.58521,\n",
       "       134.51944, 135.80372, 124.62893, 119.98008, 122.49675, 125.54221,\n",
       "       121.0094 , 117.41526, 111.41417, 130.5111 , 114.61097, 119.44852,\n",
       "       118.04464, 114.12147, 124.38858, 133.54187, 116.82684, 116.81788,\n",
       "       116.30383, 116.15508, 131.79794, 125.25833, 128.63215, 108.90906,\n",
       "       130.18286, 120.01085, 124.0137 , 128.24605, 117.1253 , 121.33049,\n",
       "       129.01521, 119.65558, 121.62635, 133.08164, 127.69437, 128.77373,\n",
       "       121.89252, 133.86875, 116.3318 , 112.75512, 129.29843, 114.20745,\n",
       "       129.06672, 130.52856, 128.27483, 129.38385, 108.81668, 124.27122,\n",
       "       127.89318, 116.71962, 129.52284, 108.04411, 130.11434, 125.32352,\n",
       "       108.84867, 122.41312, 134.72627, 128.4497 , 127.28912, 117.84745,\n",
       "       129.06951, 126.69332, 123.69058, 130.75842, 128.26942, 124.89305,\n",
       "       126.66572, 126.01424, 124.0412 , 128.87344, 129.13828, 129.14109,\n",
       "       126.10868, 135.19241, 115.53369, 133.90591, 121.84808, 129.0383 ,\n",
       "       131.03371, 126.45634, 136.43332, 123.77765, 125.92581, 118.9508 ,\n",
       "       123.43405, 120.96892, 117.09487, 129.78116, 127.84141, 120.04154,\n",
       "       122.21488, 134.49128, 120.97709, 127.49558, 128.545  , 130.44429,\n",
       "       117.67125, 116.9905 , 125.39793, 123.84142, 126.55768, 120.06129,\n",
       "       129.79529, 118.17355, 111.80439, 131.77489, 118.73871, 123.68871,\n",
       "       109.39125, 131.80818, 111.93919, 130.90025, 121.51799, 116.23638,\n",
       "       117.2716 , 124.436  , 128.08066, 132.38921, 120.90467, 129.72206,\n",
       "       128.10306, 116.73019, 123.77981, 124.96314, 116.35809, 128.93087,\n",
       "       125.45616, 127.36934, 125.67928, 131.99853, 126.59366, 127.34863,\n",
       "       120.45824, 132.60162, 115.75141, 134.06561, 124.83314, 122.7526 ,\n",
       "       126.34273, 124.51906, 130.07275, 111.4645 , 132.88304, 115.76644,\n",
       "       127.93489, 131.78473, 123.11898, 127.88506, 128.47078, 130.8081 ,\n",
       "       122.09379, 125.41107, 127.88256, 132.54029, 127.12145, 117.83249,\n",
       "       121.68608, 127.20037, 134.6046 , 132.38344, 126.20608, 119.74475,\n",
       "       111.23072, 123.51431, 114.6817 , 117.82258, 128.74229, 128.53083,\n",
       "       124.24013, 131.1562 , 118.78747, 133.82913, 116.01517, 106.07179,\n",
       "       121.38496, 121.69673, 134.48695, 124.56552, 130.56252, 115.52277,\n",
       "       120.69907, 118.34465, 119.7111 , 127.14438, 126.80997, 132.96518,\n",
       "       135.4595 , 121.53735, 132.34249, 127.31715, 128.00741, 122.63784,\n",
       "       134.56774, 121.76497, 122.77548, 132.73249, 130.00815, 124.33763,\n",
       "       131.75645, 129.05713, 124.45974, 123.42235, 125.97864, 123.36549,\n",
       "       126.24195, 121.77095, 128.65553, 129.75088, 127.01068, 119.80649,\n",
       "       130.5816 , 123.86225, 114.74504, 126.16011, 124.22477, 111.707  ,\n",
       "       122.5783 , 124.15794, 136.93989, 115.25031, 126.58409, 126.26927,\n",
       "       134.70091, 131.99727, 130.12213, 133.74738, 117.37048, 123.33137,\n",
       "       117.28867, 121.35373, 121.84799, 125.35342, 118.86465, 120.08309,\n",
       "       125.78657, 129.50367, 115.81191, 130.39641, 133.33783, 123.67882,\n",
       "       125.60174, 121.46342, 118.61021, 128.78608, 130.80029, 116.19649,\n",
       "       130.62901, 117.44323, 128.6495 , 125.83874, 111.47288, 125.53047,\n",
       "       126.16054, 109.8661 , 130.59573, 127.08328, 122.11781, 131.95214,\n",
       "       126.27632, 128.27222, 127.73121, 126.68554, 131.55655, 125.65023,\n",
       "       112.71875, 129.5699 , 119.90532, 125.93615, 134.9977 , 121.86316,\n",
       "       124.57582, 129.88614, 125.89655, 122.07967, 127.87957, 126.51935,\n",
       "       134.56101, 131.24057, 132.57507, 114.9634 , 123.42108, 118.25736,\n",
       "       117.85743, 128.54723, 113.80115, 124.09137, 120.37751, 125.87851,\n",
       "       125.12615, 126.43403, 128.64475, 122.80002, 122.72912, 129.76686,\n",
       "       113.52681, 127.72915, 122.80707, 125.40046, 132.94486, 131.67636,\n",
       "       132.40687, 118.64886, 130.52073, 130.36557, 131.26843, 129.37963,\n",
       "       124.35646, 131.6078 , 123.90279, 132.46687, 123.43559, 133.41924,\n",
       "       123.39531, 126.35065, 130.744  , 127.43043, 134.9968 , 131.2139 ,\n",
       "       130.83084, 127.49202, 124.29381, 125.63044, 118.92741, 131.9796 ,\n",
       "       127.16332, 128.162  , 113.96344, 115.4572 , 120.88542, 124.13809,\n",
       "       127.39478, 119.41875, 128.78985, 126.15284, 121.48978, 112.41081,\n",
       "       122.70008, 117.01066, 129.25399, 117.99175, 128.31435, 112.87465,\n",
       "       132.72913, 133.32902, 124.66906, 126.31387, 119.08078, 123.3641 ,\n",
       "       126.07113, 133.42382, 110.88694, 129.71118, 123.29916, 127.52607,\n",
       "       128.14617, 111.47548, 118.5335 , 125.16309, 120.95735, 127.3669 ,\n",
       "       122.38275, 120.53658, 116.74083, 132.82476, 129.17204, 113.29004,\n",
       "       127.50795, 127.91632, 118.97598, 114.89404, 123.25517, 115.06976,\n",
       "       121.46951, 124.89011, 128.13867, 129.16075, 128.32309, 113.67581,\n",
       "       126.87745, 111.74059, 117.01078, 123.74796, 109.83167, 117.18588,\n",
       "       128.03156, 130.50396, 119.2515 , 115.33107, 112.63245, 127.91263,\n",
       "       113.60945, 133.28355, 127.46826, 129.30036, 114.55894, 127.23887,\n",
       "       125.73952, 125.41243, 125.20236, 134.04244, 118.87307, 124.97012,\n",
       "       121.5803 , 124.89975, 127.61054, 122.62224, 113.64677, 124.84241,\n",
       "       112.17354, 132.60579, 123.18691, 128.36553, 124.50753, 131.78182,\n",
       "       120.29547, 127.14985, 129.43877, 132.62649])"
      ]
     },
     "execution_count": 30,
     "metadata": {},
     "output_type": "execute_result"
    }
   ],
   "source": [
    "pickled_model = pickle.load(open('model.pkl', 'rb'))\n",
    "pickled_model.predict(X_test)"
   ]
  },
  {
   "cell_type": "code",
   "execution_count": 33,
   "id": "253406a0-3bd6-4798-8193-d31282c986d8",
   "metadata": {},
   "outputs": [],
   "source": [
    "dict_test={\n",
    "    \"Frequency\":9,\n",
    "    \"Angle of attack\":8,\n",
    "    \"Chord length\":10,\n",
    "    \"Free-stream velocity\":1,\n",
    "    \"Suction side\":7\n",
    "}"
   ]
  },
  {
   "cell_type": "code",
   "execution_count": 34,
   "id": "49c2d650-4dc9-41e0-b030-8b69d85b46c0",
   "metadata": {},
   "outputs": [
    {
     "data": {
      "text/plain": [
       "{'Frequency': 9,\n",
       " 'Angle of attack': 8,\n",
       " 'Chord length': 10,\n",
       " 'Free-stream velocity': 1,\n",
       " 'Suction side': 7}"
      ]
     },
     "execution_count": 34,
     "metadata": {},
     "output_type": "execute_result"
    }
   ],
   "source": [
    "dict_test"
   ]
  },
  {
   "cell_type": "code",
   "execution_count": 38,
   "id": "99f98860-aab9-49e6-992e-ef94c55cbcf6",
   "metadata": {},
   "outputs": [
    {
     "data": {
      "text/plain": [
       "[[9, 8, 10, 1, 7]]"
      ]
     },
     "execution_count": 38,
     "metadata": {},
     "output_type": "execute_result"
    }
   ],
   "source": [
    "[list(dict_test.values())]"
   ]
  },
  {
   "cell_type": "code",
   "execution_count": 40,
   "id": "6e68e94b-713d-4079-9902-81546e5d6924",
   "metadata": {},
   "outputs": [
    {
     "name": "stderr",
     "output_type": "stream",
     "text": [
      "/opt/conda/lib/python3.10/site-packages/sklearn/base.py:450: UserWarning: X does not have valid feature names, but RandomForestRegressor was fitted with feature names\n",
      "  warnings.warn(\n"
     ]
    },
    {
     "data": {
      "text/plain": [
       "array([118.12068])"
      ]
     },
     "execution_count": 40,
     "metadata": {},
     "output_type": "execute_result"
    }
   ],
   "source": [
    " pickled_model.predict([list(dict_test.values())])"
   ]
  },
  {
   "cell_type": "code",
   "execution_count": 41,
   "id": "ce21c089-11b2-43be-a961-582ae73f3ab0",
   "metadata": {},
   "outputs": [
    {
     "data": {
      "text/plain": [
       "dict_values([9, 8, 10, 1, 7])"
      ]
     },
     "execution_count": 41,
     "metadata": {},
     "output_type": "execute_result"
    }
   ],
   "source": [
    "dict_test.values()"
   ]
  },
  {
   "cell_type": "code",
   "execution_count": null,
   "id": "1d62c478-a2ef-45c2-aed3-bec0a0295863",
   "metadata": {},
   "outputs": [],
   "source": []
  }
 ],
 "metadata": {
  "kernelspec": {
   "display_name": "Python 3 (ipykernel)",
   "language": "python",
   "name": "python3"
  },
  "language_info": {
   "codemirror_mode": {
    "name": "ipython",
    "version": 3
   },
   "file_extension": ".py",
   "mimetype": "text/x-python",
   "name": "python",
   "nbconvert_exporter": "python",
   "pygments_lexer": "ipython3",
   "version": "3.10.6"
  }
 },
 "nbformat": 4,
 "nbformat_minor": 5
}
